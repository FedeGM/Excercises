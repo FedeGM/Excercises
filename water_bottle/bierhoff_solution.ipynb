{
 "cells": [
  {
   "cell_type": "markdown",
   "metadata": {},
   "source": [
    "You need exactly 3L of water, but you have only two bottles, one of them have the capacity of 9L and the other 4L.  \n",
    "How many step do you need to obtain exactly 3L of water?  \n",
    "\n",
    "Provide the result as a List where you can follow all the logic process [nSteps (int) ,BottleAction (str)].  \n",
    "  \n",
    "*For example:*   \n",
    "*[1, Bottle 1 (3L) = 0, Bottle 2 (9L) = 3L ,Empty the Bottle 1 (3L) into the Bottle 2 (9L). Bottle 1 = 0 / Bottle 2 = 3]*  \n",
    "*[2, Bottle 1 (3L) = 0, Bottle 2 (9L) = 6L ,Empty the Bottle 1 (3L) into the Bottle 2 (9L). Bottle 1 = 0 / Bottle 2 = 6]*  \n",
    "*[3, Bottle 1 (3L) = 3, Bottle 2 (9L) = 9L ,Empty the Bottle 1 (3L) into the Bottle 2 (9L). Bottle 1 = 3 / Bottle 2 = 9]*"
   ]
  },
  {
   "cell_type": "code",
   "execution_count": null,
   "metadata": {},
   "outputs": [],
   "source": [
    "class Bottle:\n",
    "    def __init__(self, name, max_capacity):\n",
    "        self.name = name\n",
    "        self.max_capacity = max_capacity\n",
    "        self.curr_capacity = 0\n",
    "    \n",
    "    def __str__(self):\n",
    "        return f\"{self.name} ({self.max_capacity}L) = {self.curr_capacity}L\"\n",
    "    \n",
    "    def __repr__(self):\n",
    "        return f\"{self.name} ({self.max_capacity}L) = {self.curr_capacity}L\"\n",
    "    \n",
    "    def is_empty(self):\n",
    "        return self.curr_capacity==0\n",
    "\n",
    "    def fill(self):\n",
    "        self.curr_capacity = self.max_capacity\n",
    "\n",
    "    def empty(self):\n",
    "        self.curr_capacity = 0\n",
    "\n",
    "    def fill_with_other_bottle(self, other_bottle):\n",
    "        if other_bottle.curr_capacity > self.max_capacity:            \n",
    "            other_bottle.curr_capacity -= (self.max_capacity-self.curr_capacity)\n",
    "            self.curr_capacity += (self.max_capacity-self.curr_capacity)            \n",
    "        else:\n",
    "            self.curr_capacity += other_bottle.curr_capacity\n",
    "            other_bottle.empty()\n",
    "            "
   ]
  },
  {
   "cell_type": "code",
   "execution_count": null,
   "metadata": {},
   "outputs": [],
   "source": [
    "b1 = Bottle('Bottle 1', 9)\n",
    "b2 = Bottle('Bottle 2', 4)\n",
    "\n",
    "results = list()\n",
    "results.append( f\"{b1}, {b2}, Starting Position\"  )\n",
    "i = 0\n",
    "while not b2.curr_capacity == 3:\n",
    "    i += 1\n",
    "    b1.fill()\n",
    "    results.append( f\"{b1}, {b2}, fill bottle {b1.name}\"  )\n",
    "    while True: \n",
    "        b2.fill_with_other_bottle(b1)\n",
    "        results.append( f\"{b1}, {b2}, empty bottle {b1.name} into {b2.name}\"  )\n",
    "        if not b1.is_empty():\n",
    "            b2.empty()\n",
    "            results.append( f\"{b1}, {b2}, empty bottle {b2.name}\"  )\n",
    "        else:\n",
    "            break\n",
    "results"
   ]
  }
 ],
 "metadata": {
  "language_info": {
   "name": "python"
  },
  "orig_nbformat": 4
 },
 "nbformat": 4,
 "nbformat_minor": 2
}
