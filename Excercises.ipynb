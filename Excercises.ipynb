{
 "cells": [
  {
   "cell_type": "markdown",
   "metadata": {},
   "source": [
    "## Logic Exercise\n",
    "### Not in LeetCode, but fun to try\n",
    "You need exactly 3L of water, but you have only two bottles, one of them have the capacity of 9L and the other 4L.  \n",
    "How many steps do you need to obtain exactly 3L of water?  \n",
    "\n",
    "Provide the result as a List where you can follow all the logic process [nSteps (int), BottleAction (str)].  \n",
    "\n",
    "*For example:*  \n",
    "*[1, Empty the Bottle 1 (3L) into the Bottle 2 (9L). Bottle 1 = 0 | Bottle 2 = 3L]*  \n",
    "*[2, Empty the Bottle 1 (3L) into the Bottle 2 (9L). Bottle 1 = 0 | Bottle 2 = 6L]*  \n",
    "*[3, Empty the Bottle 1 (3L) into the Bottle 2 (9L). Bottle 1 = 3 | Bottle 2 = 9L]*  "
   ]
  },
  {
   "cell_type": "code",
   "execution_count": 1,
   "metadata": {},
   "outputs": [],
   "source": [
    "AllBottles = []\n",
    "class Solution:\n",
    "    def __init__(self, name, size):\n",
    "        self.name = name\n",
    "        self.size = size\n",
    "        self.ListBottle = [self.name, self.size]\n",
    "    def Target(self, target):\n",
    "        self.target = target\n",
    "    def AvailableBottles(self):\n",
    "        AllBottles.append([self.size, self.name])"
   ]
  },
  {
   "cell_type": "code",
   "execution_count": 2,
   "metadata": {},
   "outputs": [],
   "source": [
    "B1 = Solution('Bottle 1', 3)\n",
    "B2 = Solution('Bottle 2', 9)"
   ]
  }
 ],
 "metadata": {
  "interpreter": {
   "hash": "9a028c51417acefe83289a9ed71352b2664a7f687aff36b2d3f3e7c3ddded3c7"
  },
  "kernelspec": {
   "display_name": "Python 3.10.0 ('venv': venv)",
   "language": "python",
   "name": "python3"
  },
  "language_info": {
   "codemirror_mode": {
    "name": "ipython",
    "version": 3
   },
   "file_extension": ".py",
   "mimetype": "text/x-python",
   "name": "python",
   "nbconvert_exporter": "python",
   "pygments_lexer": "ipython3",
   "version": "3.10.0"
  },
  "orig_nbformat": 4
 },
 "nbformat": 4,
 "nbformat_minor": 2
}
