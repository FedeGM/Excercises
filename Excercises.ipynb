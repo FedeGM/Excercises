{
 "cells": [
  {
   "cell_type": "code",
   "execution_count": null,
   "metadata": {},
   "outputs": [],
   "source": [
    "test = 1"
   ]
  }
 ],
 "metadata": {
  "interpreter": {
   "hash": "9a028c51417acefe83289a9ed71352b2664a7f687aff36b2d3f3e7c3ddded3c7"
  },
  "kernelspec": {
   "display_name": "Python 3.10.0 ('venv': venv)",
   "language": "python",
   "name": "python3"
  },
  "language_info": {
   "name": "python",
   "version": "3.10.0"
  },
  "orig_nbformat": 4
 },
 "nbformat": 4,
 "nbformat_minor": 2
}
